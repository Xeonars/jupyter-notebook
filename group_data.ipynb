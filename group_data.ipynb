{
 "metadata": {
  "language_info": {
   "codemirror_mode": {
    "name": "ipython",
    "version": 3
   },
   "file_extension": ".py",
   "mimetype": "text/x-python",
   "name": "python",
   "nbconvert_exporter": "python",
   "pygments_lexer": "ipython3",
   "version": "3.8.2-final"
  },
  "orig_nbformat": 2,
  "kernelspec": {
   "name": "Python 3.8.2 64-bit",
   "display_name": "Python 3.8.2 64-bit",
   "metadata": {
    "interpreter": {
     "hash": "31f2aee4e71d21fbe5cf8b01ff0e069b9275f58929596ceb00d14d90e3e16cd6"
    }
   }
  }
 },
 "nbformat": 4,
 "nbformat_minor": 2,
 "cells": [
  {
   "source": [
    "import pandas as pd\n",
    "\n",
    "df = pd.read_csv(\"data/trip_data_matched_square_res100.csv\", nrows=200)\n",
    "\n",
    "df.head() "
   ],
   "cell_type": "code",
   "metadata": {},
   "execution_count": 151,
   "outputs": [
    {
     "output_type": "execute_result",
     "data": {
      "text/plain": "   Unnamed: 0           id   bike       start_datetime         end_datetime  \\\n0           2   koeln_07_5  21414  2019-07-01 02:07:00  2019-07-01 02:28:00   \n1           3   koeln_07_6  21125  2019-07-01 02:07:00  2019-07-01 02:19:00   \n2           5   koeln_07_8  22747  2019-07-01 02:12:00  2019-07-01 02:21:00   \n3          10  koeln_07_13  22821  2019-07-01 02:24:00  2019-07-01 02:40:00   \n4          11  koeln_07_15  22204  2019-07-01 02:31:00  2019-07-01 02:46:00   \n\n   start_lat  start_lng    end_lat   end_lng  \\\n0  50.947557   6.958252  50.950361  6.957964   \n1  50.950186   6.956912  50.938485  6.939901   \n2  50.922705   6.961858  50.929629  6.951514   \n3  50.931751   6.937361  50.933055  6.941799   \n4  50.912554   6.946964  50.909689  6.942551   \n\n                          start_polygon                           end_polygon  \n0  d9eb98d9-c516-47c3-81f6-23951032b7de  ae4b3169-27c5-4588-8770-429dd8ae7b0f  \n1  5e4be7d3-7129-40d1-a8f4-b5bb96a52796  551a6f5b-f0bd-4ac3-bebd-1eb1320472f3  \n2  7fdf13e8-b7d2-41e8-a8a8-8dc0c0df3e18  9db265e5-a45a-4d31-8e4e-ed76f88c55ba  \n3  1b4585ad-8269-4a06-88ab-b900e60dd574  b424b6b3-0d57-4479-bf98-d0de852db23c  \n4  5f490728-5b19-43fe-ad7c-cdca5c86ff6e  22e8ba12-c5f2-4bdd-9fce-138166677641  ",
      "text/html": "<div>\n<style scoped>\n    .dataframe tbody tr th:only-of-type {\n        vertical-align: middle;\n    }\n\n    .dataframe tbody tr th {\n        vertical-align: top;\n    }\n\n    .dataframe thead th {\n        text-align: right;\n    }\n</style>\n<table border=\"1\" class=\"dataframe\">\n  <thead>\n    <tr style=\"text-align: right;\">\n      <th></th>\n      <th>Unnamed: 0</th>\n      <th>id</th>\n      <th>bike</th>\n      <th>start_datetime</th>\n      <th>end_datetime</th>\n      <th>start_lat</th>\n      <th>start_lng</th>\n      <th>end_lat</th>\n      <th>end_lng</th>\n      <th>start_polygon</th>\n      <th>end_polygon</th>\n    </tr>\n  </thead>\n  <tbody>\n    <tr>\n      <th>0</th>\n      <td>2</td>\n      <td>koeln_07_5</td>\n      <td>21414</td>\n      <td>2019-07-01 02:07:00</td>\n      <td>2019-07-01 02:28:00</td>\n      <td>50.947557</td>\n      <td>6.958252</td>\n      <td>50.950361</td>\n      <td>6.957964</td>\n      <td>d9eb98d9-c516-47c3-81f6-23951032b7de</td>\n      <td>ae4b3169-27c5-4588-8770-429dd8ae7b0f</td>\n    </tr>\n    <tr>\n      <th>1</th>\n      <td>3</td>\n      <td>koeln_07_6</td>\n      <td>21125</td>\n      <td>2019-07-01 02:07:00</td>\n      <td>2019-07-01 02:19:00</td>\n      <td>50.950186</td>\n      <td>6.956912</td>\n      <td>50.938485</td>\n      <td>6.939901</td>\n      <td>5e4be7d3-7129-40d1-a8f4-b5bb96a52796</td>\n      <td>551a6f5b-f0bd-4ac3-bebd-1eb1320472f3</td>\n    </tr>\n    <tr>\n      <th>2</th>\n      <td>5</td>\n      <td>koeln_07_8</td>\n      <td>22747</td>\n      <td>2019-07-01 02:12:00</td>\n      <td>2019-07-01 02:21:00</td>\n      <td>50.922705</td>\n      <td>6.961858</td>\n      <td>50.929629</td>\n      <td>6.951514</td>\n      <td>7fdf13e8-b7d2-41e8-a8a8-8dc0c0df3e18</td>\n      <td>9db265e5-a45a-4d31-8e4e-ed76f88c55ba</td>\n    </tr>\n    <tr>\n      <th>3</th>\n      <td>10</td>\n      <td>koeln_07_13</td>\n      <td>22821</td>\n      <td>2019-07-01 02:24:00</td>\n      <td>2019-07-01 02:40:00</td>\n      <td>50.931751</td>\n      <td>6.937361</td>\n      <td>50.933055</td>\n      <td>6.941799</td>\n      <td>1b4585ad-8269-4a06-88ab-b900e60dd574</td>\n      <td>b424b6b3-0d57-4479-bf98-d0de852db23c</td>\n    </tr>\n    <tr>\n      <th>4</th>\n      <td>11</td>\n      <td>koeln_07_15</td>\n      <td>22204</td>\n      <td>2019-07-01 02:31:00</td>\n      <td>2019-07-01 02:46:00</td>\n      <td>50.912554</td>\n      <td>6.946964</td>\n      <td>50.909689</td>\n      <td>6.942551</td>\n      <td>5f490728-5b19-43fe-ad7c-cdca5c86ff6e</td>\n      <td>22e8ba12-c5f2-4bdd-9fce-138166677641</td>\n    </tr>\n  </tbody>\n</table>\n</div>"
     },
     "metadata": {},
     "execution_count": 151
    }
   ]
  },
  {
   "cell_type": "code",
   "execution_count": 152,
   "metadata": {
    "tags": []
   },
   "outputs": [],
   "source": [
    "times = pd.to_datetime(df[\"start_datetime\"])\n",
    "\n",
    "grouped = df.groupby(\n",
    "    [(times - times[0]).astype('timedelta64[h]')])\n"
   ]
  },
  {
   "cell_type": "code",
   "execution_count": 153,
   "metadata": {
    "tags": []
   },
   "outputs": [],
   "source": [
    "trips_per_cell = []\n",
    "\n",
    "for i, g in grouped:\n",
    "\n",
    "    start_date = g[\"start_datetime\"].reset_index()[\"start_datetime\"][0]\n",
    "    end_date = g[\"start_datetime\"].reset_index()[\"start_datetime\"].iloc[-1]\n",
    "\n",
    "    start_counts = g[\"start_polygon\"].value_counts().reindex(\n",
    "        df[\"start_polygon\"].unique(), fill_value=0)\n",
    "\n",
    "    end_counts = g[\"end_polygon\"].value_counts().reindex(\n",
    "        df[\"end_polygon\"].unique(), fill_value=0)\n",
    "\n",
    "    trips_per_cell.append({ \"start_date\": start_date, \"end_date\": end_date, \"trip_starts\": pd.DataFrame([start_counts]), \"trip_ends\": pd.DataFrame([end_counts])})\n",
    "\n",
    "result = pd.DataFrame(trips_per_cell)"
   ]
  },
  {
   "cell_type": "code",
   "execution_count": 154,
   "metadata": {},
   "outputs": [],
   "source": [
    "with open('square_res1000.json', \"w\", encoding='utf-8') as file:\n",
    "    result.to_json(\n",
    "        file, orient=\"records\", force_ascii=False)\n"
   ]
  }
 ]
}