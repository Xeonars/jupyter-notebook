{
 "cells": [
  {
   "cell_type": "code",
   "execution_count": 1,
   "metadata": {},
   "outputs": [],
   "source": [
    "import numpy as np \n",
    "import pandas as pd\n",
    "from shapely.geometry import shape, Point\n",
    "\n",
    "import multiprocessing\n",
    "from IPython.display import clear_output"
   ]
  },
  {
   "cell_type": "code",
   "execution_count": 2,
   "metadata": {},
   "outputs": [],
   "source": [
    "trip_data = pd.read_csv(\"data/data.csv\")\n",
    "cologne_districts = pd.read_json(\"data/cologne.json\")\n",
    "hexagons = pd.read_json(\"data/hexagons/hexagons_res8.json\")"
   ]
  },
  {
   "cell_type": "code",
   "execution_count": 3,
   "metadata": {},
   "outputs": [
    {
     "name": "stderr",
     "output_type": "stream",
     "text": [
      "Process ForkPoolWorker-1:\n",
      "Traceback (most recent call last):\n",
      "  File \"/usr/lib/python3.6/multiprocessing/process.py\", line 258, in _bootstrap\n",
      "    self.run()\n",
      "  File \"/usr/lib/python3.6/multiprocessing/process.py\", line 93, in run\n",
      "    self._target(*self._args, **self._kwargs)\n",
      "  File \"/usr/lib/python3.6/multiprocessing/pool.py\", line 108, in worker\n",
      "    task = get()\n",
      "  File \"/usr/lib/python3.6/multiprocessing/queues.py\", line 337, in get\n",
      "    return _ForkingPickler.loads(res)\n",
      "AttributeError: Can't get attribute 'map_polygons' on <module '__main__'>\n",
      "Process ForkPoolWorker-2:\n",
      "Traceback (most recent call last):\n",
      "  File \"/usr/lib/python3.6/multiprocessing/process.py\", line 258, in _bootstrap\n",
      "    self.run()\n",
      "  File \"/usr/lib/python3.6/multiprocessing/process.py\", line 93, in run\n",
      "    self._target(*self._args, **self._kwargs)\n",
      "  File \"/usr/lib/python3.6/multiprocessing/pool.py\", line 108, in worker\n",
      "    task = get()\n",
      "  File \"/usr/lib/python3.6/multiprocessing/queues.py\", line 337, in get\n",
      "    return _ForkingPickler.loads(res)\n",
      "AttributeError: Can't get attribute 'map_polygons' on <module '__main__'>\n",
      "Process ForkPoolWorker-3:\n",
      "Traceback (most recent call last):\n",
      "  File \"/usr/lib/python3.6/multiprocessing/process.py\", line 258, in _bootstrap\n",
      "    self.run()\n",
      "  File \"/usr/lib/python3.6/multiprocessing/process.py\", line 93, in run\n",
      "    self._target(*self._args, **self._kwargs)\n",
      "  File \"/usr/lib/python3.6/multiprocessing/pool.py\", line 108, in worker\n",
      "    task = get()\n",
      "  File \"/usr/lib/python3.6/multiprocessing/queues.py\", line 337, in get\n",
      "    return _ForkingPickler.loads(res)\n",
      "AttributeError: Can't get attribute 'map_polygons' on <module '__main__'>\n",
      "Process ForkPoolWorker-4:\n",
      "Traceback (most recent call last):\n",
      "  File \"/usr/lib/python3.6/multiprocessing/process.py\", line 258, in _bootstrap\n",
      "    self.run()\n",
      "  File \"/usr/lib/python3.6/multiprocessing/process.py\", line 93, in run\n",
      "    self._target(*self._args, **self._kwargs)\n",
      "Process ForkPoolWorker-5:\n",
      "  File \"/usr/lib/python3.6/multiprocessing/pool.py\", line 108, in worker\n",
      "    task = get()\n",
      "  File \"/usr/lib/python3.6/multiprocessing/queues.py\", line 337, in get\n",
      "    return _ForkingPickler.loads(res)\n",
      "AttributeError: Can't get attribute 'map_polygons' on <module '__main__'>\n",
      "Traceback (most recent call last):\n",
      "Process ForkPoolWorker-6:\n",
      "  File \"/usr/lib/python3.6/multiprocessing/process.py\", line 258, in _bootstrap\n",
      "    self.run()\n",
      "  File \"/usr/lib/python3.6/multiprocessing/process.py\", line 93, in run\n",
      "    self._target(*self._args, **self._kwargs)\n",
      "Traceback (most recent call last):\n",
      "  File \"/usr/lib/python3.6/multiprocessing/pool.py\", line 108, in worker\n",
      "    task = get()\n",
      "  File \"/usr/lib/python3.6/multiprocessing/process.py\", line 258, in _bootstrap\n",
      "    self.run()\n",
      "  File \"/usr/lib/python3.6/multiprocessing/queues.py\", line 337, in get\n",
      "    return _ForkingPickler.loads(res)\n",
      "  File \"/usr/lib/python3.6/multiprocessing/process.py\", line 93, in run\n",
      "    self._target(*self._args, **self._kwargs)\n",
      "AttributeError: Can't get attribute 'map_polygons' on <module '__main__'>\n",
      "  File \"/usr/lib/python3.6/multiprocessing/pool.py\", line 108, in worker\n",
      "    task = get()\n",
      "  File \"/usr/lib/python3.6/multiprocessing/queues.py\", line 337, in get\n",
      "    return _ForkingPickler.loads(res)\n",
      "AttributeError: Can't get attribute 'map_polygons' on <module '__main__'>\n",
      "Process ForkPoolWorker-7:\n",
      "Traceback (most recent call last):\n",
      "  File \"/usr/lib/python3.6/multiprocessing/process.py\", line 258, in _bootstrap\n",
      "    self.run()\n",
      "  File \"/usr/lib/python3.6/multiprocessing/process.py\", line 93, in run\n",
      "    self._target(*self._args, **self._kwargs)\n",
      "  File \"/usr/lib/python3.6/multiprocessing/pool.py\", line 108, in worker\n",
      "    task = get()\n",
      "  File \"/usr/lib/python3.6/multiprocessing/queues.py\", line 337, in get\n",
      "    return _ForkingPickler.loads(res)\n",
      "AttributeError: Can't get attribute 'map_polygons' on <module '__main__'>\n"
     ]
    }
   ],
   "source": [
    "#MULTIPROCESSING\n",
    "num_processes = multiprocessing.cpu_count() - 1\n",
    "chunk_size = int(trip_data.shape[0]/num_processes)\n",
    "\n",
    "chunks = [trip_data.iloc[i:i + chunk_size,:] for i in range(0, trip_data.shape[0], chunk_size)]"
   ]
  },
  {
   "cell_type": "code",
   "execution_count": 4,
   "metadata": {},
   "outputs": [],
   "source": [
    "district_polygons = []\n",
    "partition_polygons = []\n",
    "dfLength = len(trip_data)\n",
    "\n",
    "for feature in cologne_districts[\"features\"]:\n",
    "    hexagon = shape(feature[\"geometry\"])\n",
    "    id = feature[\"properties\"][\"name\"]\n",
    "\n",
    "    district_polygons.append({\"id\": id, \"polygon\": hexagon})\n",
    "\n",
    "\n",
    "for feature in hexagons[\"features\"]:\n",
    "    polygon = shape(feature[\"geometry\"])\n",
    "    id = feature[\"id\"] # for vor: [\"properties\"][\"index\"] for districts: [\"properties\"][\"cartodb_id\"] TODO: streamline\n",
    "\n",
    "    partition_polygons.append({\"id\": id, \"polygon\": hexagon})\n",
    "\n",
    "df_districts = pd.DataFrame(district_polygons)\n",
    "df_polygons = pd.DataFrame(partition_polygons)"
   ]
  },
  {
   "cell_type": "code",
   "execution_count": 5,
   "metadata": {},
   "outputs": [],
   "source": [
    "def map_polygons(trip_data_chunks):\n",
    "    for index, row in enumerate(trip_data_chunks.itertuples()):\n",
    "        print(\"%i / %f\" % (index + 1, dfLength))\n",
    "        \n",
    "        starting_point = Point(row[6], row[5])\n",
    "        ending_point = Point(row[8], row[7])\n",
    "\n",
    "        for polygon in df_districts.itertuples():\n",
    "\n",
    "            if polygon[2].contains(starting_point):\n",
    "                trip_data_chunks.at[row.Index, \"start_district\"] = polygon[1]\n",
    "\n",
    "            if polygon[2].contains(ending_point):\n",
    "                trip_data_chunks.at[row.Index, \"end_district\"] = polygon[1]\n",
    "\n",
    "        for hexagon in df_polygons.itertuples():\n",
    "\n",
    "            if hexagon[2].contains(starting_point):\n",
    "                trip_data_chunks.at[row.Index, \"start_polygon\"] = hexagon[1]\n",
    "            else:\n",
    "                trip_data_chunks.at[row.Index, \"start_polygon\"] = \"null\"\n",
    "\n",
    "\n",
    "            if hexagon[2].contains(ending_point):\n",
    "                trip_data_chunks.at[row.Index, \"end_polygon\"] = hexagon[1]\n",
    "            else:\n",
    "                trip_data_chunks.at[row.Index, \"end_polygon\"] = \"null\""
   ]
  },
  {
   "cell_type": "code",
   "execution_count": null,
   "metadata": {},
   "outputs": [
    {
     "name": "stdout",
     "output_type": "stream",
     "text": [
      "1 / 101076.000000\n",
      "2 / 101076.000000\n",
      "3 / 101076.000000\n"
     ]
    }
   ],
   "source": [
    "pool = multiprocessing.Pool(processes=num_processes)\n",
    "\n",
    "result = pool.map(map_polygons, chunks)\n",
    "\n",
    "print(result)"
   ]
  },
  {
   "cell_type": "code",
   "execution_count": null,
   "metadata": {},
   "outputs": [],
   "source": []
  }
 ],
 "metadata": {
  "kernelspec": {
   "display_name": "Python 3",
   "language": "python",
   "name": "python3"
  },
  "language_info": {
   "codemirror_mode": {
    "name": "ipython",
    "version": 3
   },
   "file_extension": ".py",
   "mimetype": "text/x-python",
   "name": "python",
   "nbconvert_exporter": "python",
   "pygments_lexer": "ipython3",
   "version": "3.6.9"
  }
 },
 "nbformat": 4,
 "nbformat_minor": 4
}
